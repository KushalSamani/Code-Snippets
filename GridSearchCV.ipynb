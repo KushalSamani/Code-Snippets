{
 "cells": [
  {
   "cell_type": "code",
   "execution_count": 1,
   "id": "8123f2dc",
   "metadata": {},
   "outputs": [],
   "source": [
    "# from sklearn.model_selection import GridSearchCV\n",
    "\n",
    "# model_params = {\n",
    "#     'svm': {\n",
    "#        'model': SVC(gamma='auto'),\n",
    "#        'params' : {\n",
    "#            'C': [1,10,20],\n",
    "#            'kernel': ['rbf','linear']\n",
    "#         }  \n",
    "#     },\n",
    "#     'random_forest': {\n",
    "#         'model': RandomForestClassifier(),\n",
    "#         'params' : {\n",
    "#             'n_estimators': [1,5,10]\n",
    "#         }\n",
    "#     },\n",
    "#     'logistic_regression' : {\n",
    "#         'model': LogisticRegression(solver='liblinear',multi_class='auto'),\n",
    "#         'params': {\n",
    "#             'C': [1,5,10]\n",
    "#         }\n",
    "#     }\n",
    "# }"
   ]
  },
  {
   "cell_type": "code",
   "execution_count": 2,
   "id": "ca425aec",
   "metadata": {},
   "outputs": [],
   "source": [
    "# For one model, different parameters\n",
    "# d1 = pd.DataFrame(clf.cv_results_)[['param_n_neighbors','mean_test_score']]\n",
    "# d1"
   ]
  },
  {
   "cell_type": "code",
   "execution_count": 3,
   "id": "06ca8ba8",
   "metadata": {},
   "outputs": [],
   "source": [
    "#For many different models\n",
    "# scores = []\n",
    "\n",
    "# for model_name, mp in model_params.items():\n",
    "#     clf =  GridSearchCV(mp['model'], mp['params'], cv=5, return_train_score=False)\n",
    "#     clf.fit(X, y)\n",
    "#     scores.append({\n",
    "#         'model': model_name,\n",
    "#         'best_score': clf.best_score_,\n",
    "#         'best_params': clf.best_params_,\n",
    "    \n",
    "#     })\n",
    "    \n",
    "# df = pd.DataFrame(scores)\n",
    "# df"
   ]
  },
  {
   "cell_type": "code",
   "execution_count": null,
   "id": "8a43783f",
   "metadata": {},
   "outputs": [],
   "source": [
    "#Randomized Search\n",
    "\n",
    "# for model_name, mp in model_params.items():\n",
    "#     clf =  RandomizedSearchCV(mp['model'], mp['params'], cv=5, return_train_score=False,n_iter = 2)\n",
    "#     clf.fit(X, y)\n",
    "#     scores.append({\n",
    "#         'model': model_name,\n",
    "#         'best_score': clf.best_score_,\n",
    "#         'best_params': clf.best_params_,\n",
    "    \n",
    "#     })"
   ]
  }
 ],
 "metadata": {
  "kernelspec": {
   "display_name": "Python 3 (ipykernel)",
   "language": "python",
   "name": "python3"
  },
  "language_info": {
   "codemirror_mode": {
    "name": "ipython",
    "version": 3
   },
   "file_extension": ".py",
   "mimetype": "text/x-python",
   "name": "python",
   "nbconvert_exporter": "python",
   "pygments_lexer": "ipython3",
   "version": "3.9.12"
  }
 },
 "nbformat": 4,
 "nbformat_minor": 5
}
