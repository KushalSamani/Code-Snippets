{
 "cells": [
  {
   "cell_type": "code",
   "execution_count": 1,
   "id": "ccf12a89",
   "metadata": {},
   "outputs": [],
   "source": [
    "# d1 = df[df.Cholesterol<=(df.Cholesterol.mean()+3*df.Cholesterol.std())]\n",
    "# d2 = d1[d1.Oldpeak<=(d1.Oldpeak.mean()+3*d1.Oldpeak.std())]\n",
    "# d3 = d2[d2.RestingBP<=(d2.RestingBP.mean()+3*d2.RestingBP.std())]\n"
   ]
  },
  {
   "cell_type": "code",
   "execution_count": null,
   "id": "80694a0c",
   "metadata": {},
   "outputs": [],
   "source": []
  }
 ],
 "metadata": {
  "kernelspec": {
   "display_name": "Python 3 (ipykernel)",
   "language": "python",
   "name": "python3"
  },
  "language_info": {
   "codemirror_mode": {
    "name": "ipython",
    "version": 3
   },
   "file_extension": ".py",
   "mimetype": "text/x-python",
   "name": "python",
   "nbconvert_exporter": "python",
   "pygments_lexer": "ipython3",
   "version": "3.9.12"
  }
 },
 "nbformat": 4,
 "nbformat_minor": 5
}
